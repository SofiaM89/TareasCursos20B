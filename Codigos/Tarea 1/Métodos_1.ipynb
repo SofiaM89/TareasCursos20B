{
 "cells": [
  {
   "cell_type": "markdown",
   "id": "684a7753",
   "metadata": {},
   "source": [
    "# Ejercicios clase 1\n",
    "-----\n",
    "### Cálculo de baricentro\n",
    "########### María Sofía Cárdenas"
   ]
  },
  {
   "cell_type": "code",
   "execution_count": 6,
   "id": "58713e3b",
   "metadata": {},
   "outputs": [],
   "source": [
    "import numpy as np\n",
    "import math"
   ]
  },
  {
   "cell_type": "code",
   "execution_count": 3,
   "id": "8caa3f40",
   "metadata": {
    "scrolled": true
   },
   "outputs": [
    {
     "name": "stdout",
     "output_type": "stream",
     "text": [
      "Número de coordenadas:3\n",
      "Coordenadas:3\n",
      "Coordenadas:2\n",
      "Coordenadas:1\n",
      "Coordenadas:2\n",
      "Coordenadas:3\n",
      "Coordenadas:4\n",
      "Coordenadas:3\n",
      "Coordenadas:1\n",
      "Coordenadas:3\n",
      "El baricentro del tríangulo está en: [2.         3.         2.33333333]\n"
     ]
    }
   ],
   "source": [
    "A = []\n",
    "B = []\n",
    "C = []\n",
    "a = int(input(\"Número de coordenadas:\"))\n",
    "for i in range(a):\n",
    "    A.append(float(input(\"Coordenadas:\")))\n",
    "    B.append(float(input(\"Coordenadas:\")))\n",
    "    C.append(float(input(\"Coordenadas:\")))\n",
    "A = np.array(A)\n",
    "B = np.array(B)\n",
    "C = np.array(C)\n",
    "Bar = (A + B + C)/3\n",
    "print(\"El baricentro del tríangulo está en:\" , Bar)"
   ]
  },
  {
   "cell_type": "markdown",
   "id": "af3dd74a",
   "metadata": {},
   "source": [
    "# Ejercicio 6, sección 1.2.7"
   ]
  },
  {
   "cell_type": "code",
   "execution_count": 7,
   "id": "115459b0",
   "metadata": {},
   "outputs": [],
   "source": [
    "a = np.array([1,2,3])\n",
    "b = np.array([4,5,6])\n",
    "c = np.array([3,2,1])\n",
    "d = np.array([6,5,4])"
   ]
  },
  {
   "cell_type": "code",
   "execution_count": 47,
   "id": "57d2919f",
   "metadata": {},
   "outputs": [
    {
     "name": "stdout",
     "output_type": "stream",
     "text": [
      "a + b + c + d = [14. 14. 14.] \n",
      "a + b - c - d =  [-4.  0.  4.] \n",
      "a - b + c - d =  [-6. -6. -6.] \n",
      "-a + b -c + d = [6. 6. 6.]\n"
     ]
    }
   ],
   "source": [
    "suma = a + b + c + d\n",
    "suma_2= a + b - c - d \n",
    "suma_3= a-b + c - d\n",
    "suma_4 = -a + b -c + d \n",
    "print(\"a + b + c + d =\", np.floor(suma) ,\"\\na + b - c - d = \", np.floor(suma_2), \n",
    "      \"\\na - b + c - d = \", np.floor(suma_3,), \"\\n-a + b -c + d =\", np.floor(suma_4)) "
   ]
  },
  {
   "cell_type": "markdown",
   "id": "efad418f",
   "metadata": {},
   "source": [
    "b). El ángulo entre los vectores a, b, c, d \n",
    "\n",
    "d). El ángulo entre a y b y entre c y d."
   ]
  },
  {
   "cell_type": "code",
   "execution_count": 5,
   "id": "c2a1d790",
   "metadata": {},
   "outputs": [
    {
     "name": "stdout",
     "output_type": "stream",
     "text": [
      "El ángulo entre a y b = 12.933154491899135 \n",
      "El ángulo entre a y c es = 44.41530859719296 \n",
      "El ángulo entre b y c es = 31.482154105293855 \n",
      "El ángulo entre b y d es = 18.54899961339476\n"
     ]
    }
   ],
   "source": [
    "import math\n",
    "\n",
    "def angle(vector1, vector2):\n",
    "    x1, y1, z1 = vector1\n",
    "    x2, y2, z2 = vector2\n",
    "    inner_product = x1*x2 + y1*y2 + z1*z2\n",
    "    len1 = math.hypot(x1, y1, z1)\n",
    "    len2 = math.hypot(x2, y2, z2)\n",
    "    return math.acos(inner_product/(len1*len2))\n",
    "ang = math.degrees(angle(a,b))\n",
    "ang2 = math.degrees(angle(a,c))\n",
    "ang3 = math.degrees(angle(b,c))\n",
    "ang4 = math.degrees(angle(a,d))\n",
    "ang4 = math.degrees(angle(b,d))\n",
    "\n",
    "print(\"El ángulo entre a y b =\", ang, \"\\nEl ángulo entre a y c es =\", ang2,\n",
    "     \"\\nEl ángulo entre b y c es =\", ang3, \"\\nEl ángulo entre b y d es =\", ang4,\n",
    "     )"
   ]
  },
  {
   "cell_type": "code",
   "execution_count": 8,
   "id": "a786000a",
   "metadata": {},
   "outputs": [
    {
     "name": "stdout",
     "output_type": "stream",
     "text": [
      "El ángulo entre el vector [1 2 3] y el vector base e1 es de: 1.3 rad.\n",
      "El ángulo entre el vector [1 2 3] y el vector base e2 es de: 1.007 rad.\n",
      "El ángulo entre el vector [1 2 3] y el vector base e3 es de: 0.641 rad.\n",
      "El ángulo entre el vector [4 5 6] y el vector base e1 es de: 1.097 rad.\n",
      "El ángulo entre el vector [4 5 6] y el vector base e2 es de: 0.965 rad.\n",
      "El ángulo entre el vector [4 5 6] y el vector base e3 es de: 0.818 rad.\n",
      "El ángulo entre el vector [3 2 1] y el vector base e1 es de: 0.641 rad.\n",
      "El ángulo entre el vector [3 2 1] y el vector base e2 es de: 1.007 rad.\n",
      "El ángulo entre el vector [3 2 1] y el vector base e3 es de: 1.3 rad.\n",
      "El ángulo entre el vector [6 5 4] y el vector base e1 es de: 0.818 rad.\n",
      "El ángulo entre el vector [6 5 4] y el vector base e2 es de: 0.965 rad.\n",
      "El ángulo entre el vector [6 5 4] y el vector base e3 es de: 1.097 rad.\n"
     ]
    }
   ],
   "source": [
    "e1 = np.array([1,0,0])\n",
    "e2 = np.array([0,1,0])\n",
    "e3 = np.array([0,0,1])\n",
    "\n",
    "base = [e1,e2,e3]\n",
    "base_name = [\"e1\",\"e2\",\"e3\"]\n",
    "vect = [a,b,c,d]\n",
    "\n",
    "for i in vect:\n",
    "    for j in range(0,len(base)):\n",
    "        print(\"El ángulo entre el vector\",\n",
    "              \"{} y el vector base {} es de: {} rad.\".format(str(i),base_name[j], round(angle(i,base[j]),3)))"
   ]
  },
  {
   "cell_type": "markdown",
   "id": "fbd22807",
   "metadata": {},
   "source": [
    "c). La magnitud de los vectores"
   ]
  },
  {
   "cell_type": "code",
   "execution_count": 9,
   "id": "b2f3a006",
   "metadata": {},
   "outputs": [
    {
     "name": "stdout",
     "output_type": "stream",
     "text": [
      "La magnitud del vector [1 2 3] es: 3.742\n",
      "La magnitud del vector [4 5 6] es: 8.775\n",
      "La magnitud del vector [3 2 1] es: 3.742\n",
      "La magnitud del vector [6 5 4] es: 8.775\n"
     ]
    }
   ],
   "source": [
    "def magn(u):\n",
    "    mag = np.sqrt(np.dot(u,u))\n",
    "    return mag\n",
    "\n",
    "for i in vect:\n",
    "    print(\"La magnitud del vector {} es: {}\".format(i, round(magn(i),3)))"
   ]
  },
  {
   "cell_type": "markdown",
   "id": "4ce50b88",
   "metadata": {},
   "source": [
    "e). La proyección de a sobre b."
   ]
  },
  {
   "cell_type": "code",
   "execution_count": 12,
   "id": "e27eef7f",
   "metadata": {},
   "outputs": [
    {
     "name": "stdout",
     "output_type": "stream",
     "text": [
      "La proyección del vector [1 2 3] sobre el vector [4 5 6] es: [1.66233766 2.07792208 2.49350649]\n"
     ]
    }
   ],
   "source": [
    "proyeccion = np.dot(a,b)*b/((np.linalg.norm(b))**2)\n",
    "proyiccion = [round(x,3) for x in proyeccion]\n",
    "print(\"La proyección del vector {} sobre el vector {} es: {}\".format(a,b,proyeccion))"
   ]
  },
  {
   "cell_type": "markdown",
   "id": "7cd9341b",
   "metadata": {},
   "source": [
    "g). Encuentre (a + b) · (c + d)."
   ]
  },
  {
   "cell_type": "code",
   "execution_count": 13,
   "id": "31f1b984",
   "metadata": {},
   "outputs": [
    {
     "name": "stdout",
     "output_type": "stream",
     "text": [
      "(a + b) · (c + d) = 139\n"
     ]
    }
   ],
   "source": [
    "print(\"(a + b) · (c + d) = {}\".format(np.dot((a+b),(c+d))))"
   ]
  },
  {
   "cell_type": "markdown",
   "id": "17b18257",
   "metadata": {},
   "source": [
    "h). Los productos a × b, b × c, c × d y los ángulos que estos forman con d."
   ]
  },
  {
   "cell_type": "code",
   "execution_count": 16,
   "id": "25027100",
   "metadata": {},
   "outputs": [
    {
     "name": "stdout",
     "output_type": "stream",
     "text": [
      "El producto cruz [1 2 3] x [4 5 6] = [-3  6 -3] forma un ángulo de 1.571 rad con d\n",
      "El producto cruz [4 5 6] x [3 2 1] = [-7 14 -7] forma un ángulo de 1.571 rad con d\n",
      "El producto cruz [3 2 1] x [6 5 4] = [ 3 -6  3] forma un ángulo de 1.571 rad con d\n"
     ]
    }
   ],
   "source": [
    "print(\"El producto cruz {} x {} = {}\".format(a,b,np.cross(a,b)), \n",
    "      \"forma un ángulo de {} rad con d\".format(round(angle(np.cross(a,b),d),3)))\n",
    "\n",
    "print(\"El producto cruz {} x {} = {}\".format(b,c,np.cross(b,c)), \n",
    "      \"forma un ángulo de {} rad con d\".format(round(angle(np.cross(b,c),d),3)))\n",
    "\n",
    "print(\"El producto cruz {} x {} = {}\".format(c,d,np.cross(c,d)), \n",
    "      \"forma un ángulo de {} rad con d\".format(round(angle(np.cross(c,d),d),3)))"
   ]
  },
  {
   "cell_type": "markdown",
   "id": "1f647b17",
   "metadata": {},
   "source": [
    "i). c· (a x b)."
   ]
  },
  {
   "cell_type": "code",
   "execution_count": 17,
   "id": "1db9c8cc",
   "metadata": {},
   "outputs": [
    {
     "ename": "NameError",
     "evalue": "name 'cruz' is not defined",
     "output_type": "error",
     "traceback": [
      "\u001b[1;31m---------------------------------------------------------------------------\u001b[0m",
      "\u001b[1;31mNameError\u001b[0m                                 Traceback (most recent call last)",
      "\u001b[1;32m<ipython-input-17-e34bcc8a6123>\u001b[0m in \u001b[0;36m<module>\u001b[1;34m\u001b[0m\n\u001b[1;32m----> 1\u001b[1;33m \u001b[0mprint\u001b[0m\u001b[1;33m(\u001b[0m\u001b[0mcruz\u001b[0m\u001b[1;33m)\u001b[0m\u001b[1;33m\u001b[0m\u001b[1;33m\u001b[0m\u001b[0m\n\u001b[0m\u001b[0;32m      2\u001b[0m \u001b[0mmix\u001b[0m \u001b[1;33m=\u001b[0m \u001b[0mnp\u001b[0m\u001b[1;33m.\u001b[0m\u001b[0mdot\u001b[0m\u001b[1;33m(\u001b[0m\u001b[0mc\u001b[0m\u001b[1;33m,\u001b[0m\u001b[0mcruz\u001b[0m\u001b[1;33m)\u001b[0m\u001b[1;33m\u001b[0m\u001b[1;33m\u001b[0m\u001b[0m\n\u001b[0;32m      3\u001b[0m \u001b[0mprint\u001b[0m\u001b[1;33m(\u001b[0m\u001b[1;34m\"c·(a x b) = {} · ({} x {}) = {}\"\u001b[0m\u001b[1;33m.\u001b[0m\u001b[0mformat\u001b[0m\u001b[1;33m(\u001b[0m\u001b[0mc\u001b[0m\u001b[1;33m,\u001b[0m\u001b[0ma\u001b[0m\u001b[1;33m,\u001b[0m\u001b[0mb\u001b[0m\u001b[1;33m,\u001b[0m\u001b[0mmix\u001b[0m\u001b[1;33m)\u001b[0m\u001b[1;33m)\u001b[0m\u001b[1;33m\u001b[0m\u001b[1;33m\u001b[0m\u001b[0m\n",
      "\u001b[1;31mNameError\u001b[0m: name 'cruz' is not defined"
     ]
    }
   ],
   "source": [
    "print(cruz)\n",
    "mix = np.dot(c,cruz)\n",
    "print(\"c·(a x b) = {} · ({} x {}) = {}\".format(c,a,b,mix))"
   ]
  }
 ],
 "metadata": {
  "kernelspec": {
   "display_name": "Python 3",
   "language": "python",
   "name": "python3"
  },
  "language_info": {
   "codemirror_mode": {
    "name": "ipython",
    "version": 3
   },
   "file_extension": ".py",
   "mimetype": "text/x-python",
   "name": "python",
   "nbconvert_exporter": "python",
   "pygments_lexer": "ipython3",
   "version": "3.8.8"
  }
 },
 "nbformat": 4,
 "nbformat_minor": 5
}
